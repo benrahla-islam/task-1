{
 "cells": [
  {
   "cell_type": "markdown",
   "id": "1aceb99e",
   "metadata": {},
   "source": [
    "# Data Exploration for sample_train.csv\n",
    "This notebook demonstrates basic data exploration and preprocessing steps for the sample training data."
   ]
  },
  {
   "cell_type": "code",
   "execution_count": null,
   "id": "4624f110",
   "metadata": {},
   "outputs": [],
   "source": [
    "import pandas as pd\n",
    "# Load the sample data\n",
    "df = pd.read_csv('files/sample_train.csv')"
   ]
  },
  {
   "cell_type": "markdown",
   "id": "05ab66f3",
   "metadata": {},
   "source": [
    "## Basic Info\n",
    "Show the shape, columns, and missing values in the dataset."
   ]
  },
  {
   "cell_type": "code",
   "execution_count": null,
   "id": "8e3d2120",
   "metadata": {},
   "outputs": [],
   "source": [
    "print('Shape:', df.shape)\n",
    "print('Columns:', df.columns.tolist())\n",
    "print('Missing values per column:')\n",
    "print(df.isnull().sum())"
   ]
  },
  {
   "cell_type": "markdown",
   "id": "4da417a4",
   "metadata": {},
   "source": [
    "## Cardinality of Categorical Features\n",
    "Check the number of unique values for each categorical feature (ID_01 to ID_22)."
   ]
  },
  {
   "cell_type": "code",
   "execution_count": null,
   "id": "7665e545",
   "metadata": {},
   "outputs": [],
   "source": [
    "cat_features = [col for col in df.columns if col.startswith('ID_')]\n",
    "for col in cat_features:\n",
    "    print(f'{col}: {df[col].nunique()} unique values')"
   ]
  },
  {
   "cell_type": "markdown",
   "id": "a86eb563",
   "metadata": {},
   "source": [
    "## Data Preview\n",
    "Show the first few rows and value counts for a few categorical features."
   ]
  },
  {
   "cell_type": "code",
   "execution_count": null,
   "id": "e49f03c9",
   "metadata": {},
   "outputs": [],
   "source": [
    "print(df.head())\n",
    "for col in cat_features[:3]:\n",
    "    print(f'Value counts for {col}:')\n",
    "    print(df[col].value_counts().head())"
   ]
  },
  {
   "cell_type": "code",
   "execution_count": null,
   "id": "e8b9f954",
   "metadata": {},
   "outputs": [],
   "source": [
    "# Suggest encoding type based on cardinality\n",
    "one_hot_cols = []\n",
    "hashing_cols = []\n",
    "threshold = 20  # You can adjust this threshold\n",
    "for col in cat_features:\n",
    "    n_unique = df[col].nunique()\n",
    "    if n_unique <= threshold:\n",
    "        one_hot_cols.append(col)\n",
    "    else:\n",
    "        hashing_cols.append(col)\n",
    "print('Columns suitable for one-hot encoding:', one_hot_cols)\n",
    "print('Columns suitable for hashing/target encoding:', hashing_cols)"
   ]
  },
  {
   "cell_type": "code",
   "execution_count": null,
   "id": "a4a2c56d",
   "metadata": {},
   "outputs": [],
   "source": [
    "from sklearn.preprocessing import OneHotEncoder\n",
    "from sklearn.feature_extraction import FeatureHasher\n",
    "\n",
    "# One-hot encoding for low-cardinality columns\n",
    "if one_hot_cols:\n",
    "    ohe = OneHotEncoder(sparse=False, handle_unknown='ignore')\n",
    "    ohe_encoded = ohe.fit_transform(df[one_hot_cols])\n",
    "    ohe_feature_names = ohe.get_feature_names_out(one_hot_cols)\n",
    "    df_ohe = pd.DataFrame(ohe_encoded, columns=ohe_feature_names, index=df.index)\n",
    "else:\n",
    "    df_ohe = pd.DataFrame(index=df.index)\n",
    "\n",
    "# Feature hashing for high-cardinality columns\n",
    "if hashing_cols:\n",
    "    hasher = FeatureHasher(n_features=10, input_type='string')  # n_features can be tuned\n",
    "    hashed_features = hasher.transform(df[hashing_cols].astype(str).values)\n",
    "    df_hash = pd.DataFrame(hashed_features.toarray(), index=df.index)\n",
    "else:\n",
    "    df_hash = pd.DataFrame(index=df.index)\n",
    "\n",
    "# Combine all features\n",
    "X = pd.concat([df_ohe, df_hash], axis=1)\n",
    "print('Encoded feature shape:', X.shape)\n",
    "X.head()"
   ]
  },
  {
   "cell_type": "code",
   "execution_count": null,
   "id": "bb35b96e",
   "metadata": {},
   "outputs": [],
   "source": [
    "# Save encoded features to a new CSV file\n",
    "X.to_csv('files/encoded_sample.csv', index=False)\n",
    "print('Encoded features saved to files/encoded_sample.csv')"
   ]
  }
 ],
 "metadata": {
  "language_info": {
   "name": "python"
  }
 },
 "nbformat": 4,
 "nbformat_minor": 5
}
